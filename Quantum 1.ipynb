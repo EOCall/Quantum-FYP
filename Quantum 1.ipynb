{
 "cells": [
  {
   "cell_type": "markdown",
   "metadata": {},
   "source": [
    "from IPython.display import display, Math\n",
    "display(Math(r'Dims: {}x{}m \\\\ Area: {}m^2 \\\\ Volume: {}m^3'.format(a, round(b,2), P, V)))"
   ]
  },
  {
   "cell_type": "markdown",
   "metadata": {},
   "source": [
    "Numpy package used to store and manipulate data"
   ]
  },
  {
   "cell_type": "code",
   "execution_count": 1,
   "metadata": {},
   "outputs": [],
   "source": [
    "import numpy as np"
   ]
  },
  {
   "cell_type": "markdown",
   "metadata": {},
   "source": [
    "Using a numpy array to represent qubits, fast and manipulable. where:\n",
    "\n",
    "$$qubit(a,b)  = \\frac{a}{\\sqrt{|a|^{2}+|b|^{2}}}|0\\rangle+\\frac{a}{\\sqrt{|a|^{2}+|b|^{2}}}|1\\rangle\\$$\n",
    "\n"
   ]
  },
  {
   "cell_type": "code",
   "execution_count": 2,
   "metadata": {},
   "outputs": [],
   "source": [
    "def qubit(a,b):                          #function creates a normed vector with 2 entries\n",
    "    Length = np.sqrt(np.abs(a)**2+np.abs(b)**2)\n",
    "    return(np.array([a/Length,b/Length]))"
   ]
  },
  {
   "cell_type": "code",
   "execution_count": 3,
   "metadata": {},
   "outputs": [],
   "source": [
    "def qudit(*args):                         #function creates a normed vector with arbitrary entries\n",
    "    Length = sum([i**2 for i in args])**(1/len(args))\n",
    "    return(np.array([j/Length for j in args]))"
   ]
  },
  {
   "cell_type": "markdown",
   "metadata": {},
   "source": [
    "Want to generate a random number uniformly between 0 and 1 to simulate measurements.  \n",
    "remove 0s  \n",
    "permute all quotients of pairs of coefficients, take the maximum.  \n",
    "1/max determines how finely to generate."
   ]
  },
  {
   "cell_type": "code",
   "execution_count": null,
   "metadata": {},
   "outputs": [],
   "source": []
  },
  {
   "cell_type": "markdown",
   "metadata": {},
   "source": [
    "Gates are represented using numpys matrix functions. The function below accepts four parameters for each of the entries in a 2x2 matrix and one additional coefficent parameter to scale all the individual entries by. \n",
    "\n",
    "$$gate(a\\ ,b\\ ,c\\ ,d\\ ,\\mathit{coefficient}\\ ) = \\mathit{coefficient}*\\begin{pmatrix} a& b\\\\ c&d \\end{pmatrix} $$\n",
    "\n",
    "The coefficient parameter is 1 by default and is useful for representing gates like the hadamard gate as shown below:\n",
    "\n",
    "$$gate(1\\ ,1\\ ,1\\ ,-1\\ ,2**(-0.5)\\ ) = \\frac{1}{\\sqrt{2}}\\begin{pmatrix} 1& 1\\\\  1&-1 \\end{pmatrix} $$"
   ]
  },
  {
   "cell_type": "code",
   "execution_count": 4,
   "metadata": {},
   "outputs": [],
   "source": [
    "def gate(a ,b ,c ,d ,coefficient = 1):\n",
    "    matrix = np.matrix([[a,b],[c,d]])*coefficient                            #forms the matrix\n",
    "    conj_trans_matrix = (coefficient*np.matrix([[a,c],[b,d]])).conj()        #forms the conjugate transpose of the matrix\n",
    "    if np.allclose(matrix*conj_trans_matrix, np.matrix([[1.,0.],[0.,1.]])):  #Checks if the matrix is unitary\n",
    "        return(matrix)\n",
    "    raise Exception('Coefficients do not form a unitary matrix')\n",
    "    \n",
    "#later: if the matrix formed is some factor off of being unitary then automatically convert it.\n",
    "#np.allclose only compares each element within tolerance"
   ]
  },
  {
   "cell_type": "code",
   "execution_count": null,
   "metadata": {},
   "outputs": [],
   "source": []
  },
  {
   "cell_type": "markdown",
   "metadata": {},
   "source": [
    "Assigned variable names to some commonly used gates below for ease of use.\n",
    "\n",
    "Also serves to test the 'gate' function defined above, no errors raised means all the gates are unitary as expected"
   ]
  },
  {
   "cell_type": "code",
   "execution_count": 5,
   "metadata": {},
   "outputs": [
    {
     "name": "stdout",
     "output_type": "stream",
     "text": [
      "True\n"
     ]
    }
   ],
   "source": [
    "##Some commonly used gates are initialised below\n",
    "I     = gate(1,0,0,1)            #The identity gate\n",
    "Hgate = gate(1,1,1,-1,2**(-0.5)) # Hadamard gate\n",
    "Xgate = gate(0,1,1,0)           # Pauli-X gate\n",
    "Ygate = gate(0,-1j,1j,0)         # Pauli-Y gate\n",
    "Zgate = gate(1,0,0,-1)          # Pauli-Z gate\n",
    "Sgate = gate(1,0,0,1j)          # Phase gate\n",
    "Tgate = gate(1,0,0,1j**0.5)     # Pi/8 gate\n",
    "\n",
    "print(np.allclose(Xgate*Ygate*Xgate,-Ygate)) # verification that XYX = -Y"
   ]
  },
  {
   "cell_type": "markdown",
   "metadata": {},
   "source": [
    "Naturally numpy allows multiplication of vectors and matrices easily and one can see below that after applying the Hadamard gate to the initial state:\n",
    "\n",
    "$$1|0\\rangle+0|1\\rangle$$ \n",
    "one obtains the superposition:\n",
    "\n",
    "$$\\frac{1}{\\sqrt{2}}|0\\rangle+\\frac{1}{\\sqrt{2}}|1\\rangle\\$$"
   ]
  },
  {
   "cell_type": "code",
   "execution_count": 6,
   "metadata": {},
   "outputs": [
    {
     "name": "stdout",
     "output_type": "stream",
     "text": [
      "[[0.70710678 0.70710678]]\n"
     ]
    }
   ],
   "source": [
    "print(qubit(1,0)*Hgate)"
   ]
  },
  {
   "cell_type": "code",
   "execution_count": 7,
   "metadata": {},
   "outputs": [],
   "source": [
    "def Cgate(gate):          #forms a controlled gate(4x4) from a regular gate(2x2).\n",
    "    row1 = [1,0,0,0]\n",
    "    row2 = [0,1,0,0]\n",
    "    row3 = [0,0,gate[0,0],gate[0,1]]\n",
    "    row4 = [0,0,gate[1,0],gate[1,1]]\n",
    "    return(np.matrix([row1,row2,row3,row4]))"
   ]
  },
  {
   "cell_type": "code",
   "execution_count": 24,
   "metadata": {},
   "outputs": [
    {
     "data": {
      "text/plain": [
       "matrix([[0, 1, 0, 0],\n",
       "        [1, 0, 0, 0],\n",
       "        [0, 0, 1, 0],\n",
       "        [0, 0, 0, 1]])"
      ]
     },
     "execution_count": 24,
     "metadata": {},
     "output_type": "execute_result"
    }
   ],
   "source": [
    "row1 = [0,1,0,0]\n",
    "row2 = [1,0,0,0]\n",
    "row3 = [0,0,1,0]\n",
    "row4 = [0,0,0,1]\n",
    "ton_dell= (np.matrix([row1,row2,row3,row4]))\n",
    "\n",
    "Cgate(Xgate)*ton_dell*Cgate(Xgate)"
   ]
  },
  {
   "cell_type": "code",
   "execution_count": 9,
   "metadata": {},
   "outputs": [
    {
     "data": {
      "text/plain": [
       "matrix([[1, 0, 0, 0],\n",
       "        [0, 1, 0, 0],\n",
       "        [0, 0, 0, 1],\n",
       "        [0, 0, 1, 0]])"
      ]
     },
     "execution_count": 9,
     "metadata": {},
     "output_type": "execute_result"
    }
   ],
   "source": [
    "Cgate(Xgate)"
   ]
  },
  {
   "cell_type": "code",
   "execution_count": 10,
   "metadata": {},
   "outputs": [
    {
     "data": {
      "text/plain": [
       "matrix([[0, 1, 0, 0],\n",
       "        [1, 0, 0, 0],\n",
       "        [0, 0, 0, 1],\n",
       "        [0, 0, 1, 0]])"
      ]
     },
     "execution_count": 10,
     "metadata": {},
     "output_type": "execute_result"
    }
   ],
   "source": [
    "np.kron(I,Xgate)"
   ]
  },
  {
   "cell_type": "code",
   "execution_count": 11,
   "metadata": {},
   "outputs": [],
   "source": [
    "q0 = qubit(1,0)\n",
    "q1 = qubit(0,1)"
   ]
  },
  {
   "cell_type": "code",
   "execution_count": 12,
   "metadata": {},
   "outputs": [
    {
     "name": "stdout",
     "output_type": "stream",
     "text": [
      "[0. 0. 0. 1.]\n",
      "[[0. 0. 1. 0.]]\n",
      "[0. 0. 1. 0.]\n"
     ]
    }
   ],
   "source": [
    "Statevector = np.kron(q1,q1)\n",
    "\n",
    "print(Statevector)\n",
    "\n",
    "print(Statevector*Cgate(Xgate))\n",
    "\n",
    "print(np.kron(q1,q0))"
   ]
  },
  {
   "cell_type": "code",
   "execution_count": null,
   "metadata": {},
   "outputs": [],
   "source": []
  },
  {
   "cell_type": "code",
   "execution_count": 13,
   "metadata": {},
   "outputs": [
    {
     "data": {
      "text/plain": [
       "matrix([[0., 0., 1., 0.]])"
      ]
     },
     "execution_count": 13,
     "metadata": {},
     "output_type": "execute_result"
    }
   ],
   "source": [
    "Statevector*Cgate(Xgate)"
   ]
  },
  {
   "cell_type": "markdown",
   "metadata": {},
   "source": [
    "# Deutsch's algorithm\n",
    "\n",
    "first prepare the input state: $|\\psi_0\\rangle = |01\\rangle = (1,0) \\oplus (0,1)$"
   ]
  },
  {
   "cell_type": "code",
   "execution_count": 18,
   "metadata": {},
   "outputs": [
    {
     "name": "stdout",
     "output_type": "stream",
     "text": [
      "[0. 1. 0. 0.]\n"
     ]
    }
   ],
   "source": [
    "Psi0 = np.kron(qubit(1,0),qubit(0,1))\n",
    "print(Psi0)"
   ]
  },
  {
   "cell_type": "markdown",
   "metadata": {},
   "source": [
    "Apply the Hadamard gate to each qubit individually  \n",
    "$ |\\psi_1\\rangle = |\\psi_0\\rangle \\cdot( H\\oplus H) $"
   ]
  },
  {
   "cell_type": "code",
   "execution_count": 20,
   "metadata": {},
   "outputs": [
    {
     "name": "stdout",
     "output_type": "stream",
     "text": [
      "[[ 0.5 -0.5  0.5 -0.5]]\n"
     ]
    }
   ],
   "source": [
    "Psi1 = Psi0*np.kron(Hgate,Hgate)\n",
    "print(Psi1)"
   ]
  },
  {
   "cell_type": "code",
   "execution_count": 21,
   "metadata": {},
   "outputs": [
    {
     "data": {
      "text/plain": [
       "matrix([[ 0.5, -0.5,  0.5, -0.5]])"
      ]
     },
     "execution_count": 21,
     "metadata": {},
     "output_type": "execute_result"
    }
   ],
   "source": [
    "np.kron(q0*Hgate,q1*Hgate) #same as first applying the Hadamard gate then taking the kronecker delta"
   ]
  },
  {
   "cell_type": "code",
   "execution_count": null,
   "metadata": {},
   "outputs": [],
   "source": []
  },
  {
   "cell_type": "code",
   "execution_count": null,
   "metadata": {},
   "outputs": [],
   "source": []
  },
  {
   "cell_type": "code",
   "execution_count": null,
   "metadata": {},
   "outputs": [],
   "source": []
  },
  {
   "cell_type": "markdown",
   "metadata": {},
   "source": [
    "Apply the Hadamard gate to the first qubit only:  \n",
    "$ |\\psi_3\\rangle = |\\psi_2\\rangle \\cdot( H\\oplus I)$"
   ]
  },
  {
   "cell_type": "code",
   "execution_count": null,
   "metadata": {},
   "outputs": [],
   "source": []
  },
  {
   "cell_type": "code",
   "execution_count": null,
   "metadata": {},
   "outputs": [],
   "source": []
  },
  {
   "cell_type": "code",
   "execution_count": null,
   "metadata": {},
   "outputs": [],
   "source": []
  }
 ],
 "metadata": {
  "kernelspec": {
   "display_name": "Python 3",
   "language": "python",
   "name": "python3"
  },
  "language_info": {
   "codemirror_mode": {
    "name": "ipython",
    "version": 3
   },
   "file_extension": ".py",
   "mimetype": "text/x-python",
   "name": "python",
   "nbconvert_exporter": "python",
   "pygments_lexer": "ipython3",
   "version": "3.7.6"
  }
 },
 "nbformat": 4,
 "nbformat_minor": 4
}
