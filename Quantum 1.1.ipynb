{
 "cells": [
  {
   "cell_type": "markdown",
   "metadata": {},
   "source": [
    "Numpy package used to store and manipulate data"
   ]
  },
  {
   "cell_type": "code",
   "execution_count": 1,
   "metadata": {},
   "outputs": [],
   "source": [
    "import numpy as np\n",
    "from IPython.display import display, Math"
   ]
  },
  {
   "cell_type": "markdown",
   "metadata": {},
   "source": [
    "Using a numpy array to represent qubits, fast and manipulable. where:\n",
    "\n",
    "$$ qubit(a,b)  = \\frac{a}{\\sqrt{|a|^{2}+|b|^{2}}}|0\\rangle+\\frac{a}{\\sqrt{|a|^{2}+|b|^{2}}}|1\\rangle\\ $$"
   ]
  },
  {
   "cell_type": "code",
   "execution_count": 2,
   "metadata": {},
   "outputs": [
    {
     "name": "stdout",
     "output_type": "stream",
     "text": [
      "[[1.]\n",
      " [0.]]\n"
     ]
    }
   ],
   "source": [
    "def qubit(a,b):                          #function creates a normed vector with 2 entries\n",
    "    Length = np.sqrt(np.abs(a)**2+np.abs(b)**2)\n",
    "    return(np.array([[a/Length,b/Length]]).T)\n",
    "\n",
    "print((qubit(1,0)))"
   ]
  },
  {
   "cell_type": "code",
   "execution_count": 3,
   "metadata": {},
   "outputs": [],
   "source": [
    "def qudit(*args):                         #function creates a normed vector with arbitrary entries\n",
    "    Length = sum([i**2 for i in args])**(1/len(args))\n",
    "    return(np.array([j/Length for j in args]))"
   ]
  },
  {
   "cell_type": "markdown",
   "metadata": {},
   "source": [
    "Want to generate a random number uniformly between 0 and 1 to simulate measurements.  \n",
    "remove 0s  \n",
    "permute all quotients of pairs of coefficients, take the maximum.  \n",
    "1/max determines how finely to generate."
   ]
  },
  {
   "cell_type": "markdown",
   "metadata": {},
   "source": [
    "Gates are represented using numpys matrix functions. The function below accepts four parameters for each of the entries in a 2x2 matrix and one additional coefficent parameter to scale all the individual entries by. \n",
    "\n",
    "$$gate(a\\ ,b\\ ,c\\ ,d\\ ,\\mathit{coefficient}\\ ) = \\mathit{coefficient}*\\begin{pmatrix} a& b\\\\ c&d \\end{pmatrix} $$\n",
    "\n",
    "The coefficient parameter is 1 by default and is useful for representing gates like the hadamard gate as shown below:\n",
    "\n",
    "$$gate(1\\ ,1\\ ,1\\ ,-1\\ ,2**(-0.5)\\ ) = \\frac{1}{\\sqrt{2}}\\begin{pmatrix} 1& 1\\\\  1&-1 \\end{pmatrix} $$"
   ]
  },
  {
   "cell_type": "code",
   "execution_count": 4,
   "metadata": {},
   "outputs": [],
   "source": [
    "def gate(a ,b ,c ,d ,coefficient = 1):\n",
    "    matrix = np.matrix([[a,b],[c,d]])*coefficient                            #forms the matrix\n",
    "    conj_trans_matrix = (coefficient*np.matrix([[a,c],[b,d]])).conj()        #forms the conjugate transpose of the matrix\n",
    "    if np.allclose(matrix*conj_trans_matrix, np.matrix([[1.,0.],[0.,1.]])):  #Checks if the matrix is unitary\n",
    "        return(matrix)\n",
    "    raise Exception('Coefficients do not form a unitary matrix')\n",
    "    \n",
    "#later: if the matrix formed is some factor off of being unitary then automatically convert it.\n",
    "#np.allclose only compares each element within tolerance"
   ]
  },
  {
   "cell_type": "markdown",
   "metadata": {},
   "source": [
    "Assigned variable names to some commonly used gates below for ease of use.\n",
    "\n",
    "Also serves to test the 'gate' function defined above, no errors raised means all the gates are unitary as expected"
   ]
  },
  {
   "cell_type": "code",
   "execution_count": 5,
   "metadata": {},
   "outputs": [
    {
     "name": "stdout",
     "output_type": "stream",
     "text": [
      "True\n"
     ]
    }
   ],
   "source": [
    "##Some commonly used gates are initialised below\n",
    "I     = gate(1,0,0,1)            #The identity gate\n",
    "Hgate = gate(1,1,1,-1,2**(-0.5)) # Hadamard gate\n",
    "Xgate = gate(0,1,1,0)           # Pauli-X gate\n",
    "Ygate = gate(0,-1j,1j,0)         # Pauli-Y gate\n",
    "Zgate = gate(1,0,0,-1)          # Pauli-Z gate\n",
    "Sgate = gate(1,0,0,1j)          # Phase gate\n",
    "Tgate = gate(1,0,0,1j**0.5)     # Pi/8 gate\n",
    "\n",
    "print(np.allclose(Xgate*Ygate*Xgate,-Ygate)) # verification that XYX = -Y"
   ]
  },
  {
   "cell_type": "markdown",
   "metadata": {},
   "source": [
    "Naturally numpy allows multiplication of vectors and matrices easily and one can see below that after applying the Hadamard gate to the initial state:\n",
    "\n",
    "$$1|0\\rangle+0|1\\rangle$$ \n",
    "one obtains the superposition:\n",
    "\n",
    "$$\\frac{1}{\\sqrt{2}}|0\\rangle+\\frac{1}{\\sqrt{2}}|1\\rangle\\ $$"
   ]
  },
  {
   "cell_type": "code",
   "execution_count": 6,
   "metadata": {},
   "outputs": [
    {
     "name": "stdout",
     "output_type": "stream",
     "text": [
      "[[0.70710678]\n",
      " [0.70710678]]\n"
     ]
    }
   ],
   "source": [
    "print(Hgate*qubit(1,0))"
   ]
  },
  {
   "cell_type": "code",
   "execution_count": 7,
   "metadata": {},
   "outputs": [],
   "source": [
    "def Cgate(gate):          #forms a controlled gate(4x4) from a regular gate(2x2).\n",
    "    row1 = [1,0,0,0]\n",
    "    row2 = [0,1,0,0]\n",
    "    row3 = [0,0,gate[0,0],gate[0,1]]\n",
    "    row4 = [0,0,gate[1,0],gate[1,1]]\n",
    "    return(np.matrix([row1,row2,row3,row4]))"
   ]
  },
  {
   "cell_type": "markdown",
   "metadata": {},
   "source": [
    "# Deutsch's algorithm\n",
    "\n",
    "## Step 1\n",
    "\n",
    "first prepare the input state: $|\\psi_0\\rangle = |01\\rangle = (1,0) \\otimes (0,1)$"
   ]
  },
  {
   "cell_type": "code",
   "execution_count": 8,
   "metadata": {},
   "outputs": [
    {
     "data": {
      "text/latex": [
       "$\\displaystyle |\\psi_0\\rangle = (0.0, 1.0, 0.0, 0.0)$"
      ],
      "text/plain": [
       "<IPython.core.display.Math object>"
      ]
     },
     "metadata": {},
     "output_type": "display_data"
    }
   ],
   "source": [
    "Psi0 = np.kron(qubit(1,0),qubit(0,1))\n",
    "display(Math(r'|\\psi_0\\rangle = ({}, {}, {}, {})'.format(*[round(float(i),8) for i in Psi0])))"
   ]
  },
  {
   "cell_type": "markdown",
   "metadata": {},
   "source": [
    "## Step 2\n",
    "Apply the Hadamard gate to each qubit individually  \n",
    "$ |\\psi_1\\rangle = ( H\\otimes H)\\cdot|\\psi_0\\rangle  $"
   ]
  },
  {
   "cell_type": "code",
   "execution_count": 9,
   "metadata": {},
   "outputs": [
    {
     "data": {
      "text/latex": [
       "$\\displaystyle |\\psi_1\\rangle = (0.5, -0.5, 0.5, -0.5)$"
      ],
      "text/plain": [
       "<IPython.core.display.Math object>"
      ]
     },
     "metadata": {},
     "output_type": "display_data"
    }
   ],
   "source": [
    "Psi1 = np.kron(Hgate,Hgate)*Psi0\n",
    "display(Math(r'|\\psi_1\\rangle = ({}, {}, {}, {})'.format(*[round(float(i),8) for i in Psi1])))"
   ]
  },
  {
   "cell_type": "markdown",
   "metadata": {},
   "source": [
    "## Step 3\n",
    "Construct the gate $U_f$ and apply it to $|\\psi_1\\rangle$\n",
    "\n",
    "$ |\\psi_2 \\rangle = U_f \\cdot |\\psi_1\\rangle $"
   ]
  },
  {
   "cell_type": "code",
   "execution_count": 10,
   "metadata": {},
   "outputs": [],
   "source": [
    "def f_1(x):\n",
    "    return(x)\n",
    "\n",
    "def f_2(x):\n",
    "    return(1-x)\n",
    "\n",
    "def f_3(x):\n",
    "    return(0)\n",
    "\n",
    "def f_4(x):\n",
    "    return(1)\n",
    "\n",
    "def U_f(function):\n",
    "    a = [1,0,0,0]\n",
    "    b = [0,1,0,0]\n",
    "    c = [0,0,1,0]\n",
    "    d = [0,0,0,1]\n",
    "    if function(0) == 1:\n",
    "        a,b = b,a\n",
    "    if function(1) == 1:\n",
    "        c,d = d,c\n",
    "    return(np.matrix([a,b,c,d]))"
   ]
  },
  {
   "cell_type": "code",
   "execution_count": 11,
   "metadata": {},
   "outputs": [
    {
     "data": {
      "text/latex": [
       "$\\displaystyle |\\psi_2\\rangle = (-0.5, 0.5, 0.5, -0.5)$"
      ],
      "text/plain": [
       "<IPython.core.display.Math object>"
      ]
     },
     "metadata": {},
     "output_type": "display_data"
    }
   ],
   "source": [
    "Psi2 = U_f(f_2)*Psi1\n",
    "display(Math(r'|\\psi_2\\rangle = ({}, {}, {}, {})'.format(*[round(float(i),8) for i in Psi2])))"
   ]
  },
  {
   "cell_type": "markdown",
   "metadata": {},
   "source": [
    "## Step 4\n",
    "Apply the Hadamard gate to the first qubit only:  \n",
    "$ |\\psi_3\\rangle = ( H\\otimes I)\\cdot|\\psi_2\\rangle$"
   ]
  },
  {
   "cell_type": "code",
   "execution_count": 12,
   "metadata": {},
   "outputs": [
    {
     "data": {
      "text/latex": [
       "$\\displaystyle |\\psi_3\\rangle = (0.0, 0.0, -0.70710678, 0.70710678)$"
      ],
      "text/plain": [
       "<IPython.core.display.Math object>"
      ]
     },
     "metadata": {},
     "output_type": "display_data"
    }
   ],
   "source": [
    "Psi3 = np.kron(Hgate,I)*Psi2\n",
    "\n",
    "display(Math(r'|\\psi_3\\rangle = ({}, {}, {}, {})'.format(*[round(float(i),8) for i in Psi3])))"
   ]
  },
  {
   "cell_type": "code",
   "execution_count": 13,
   "metadata": {},
   "outputs": [
    {
     "name": "stdout",
     "output_type": "stream",
     "text": [
      "The probability of the first qubit being 0 is: 0\n",
      "The probability of the first qubit being 1 is: 1\n"
     ]
    }
   ],
   "source": [
    "print('The probability of the first qubit being 0 is:', int(Psi3[0]**2+Psi3[1]**2))\n",
    "print('The probability of the first qubit being 1 is:', int(Psi3[2]**2+Psi3[3]**2)) #redundant, here for testing"
   ]
  },
  {
   "cell_type": "markdown",
   "metadata": {},
   "source": [
    "# Conclusion"
   ]
  },
  {
   "cell_type": "markdown",
   "metadata": {},
   "source": [
    "There are four functions from the set {0,1} to itself as follows:  \n",
    "$f_1(x)=x$  \n",
    "$f_2(x)=1-x$  \n",
    "$f_3(x)=0$  \n",
    "$f_4(x)=1$  "
   ]
  },
  {
   "cell_type": "code",
   "execution_count": 14,
   "metadata": {},
   "outputs": [
    {
     "data": {
      "text/latex": [
       "$\\displaystyle \\text{For the gate constructed from the function }f_1\\text{ the final state of the first qubit is} \\ 0|0\\rangle + 1|1\\rangle $"
      ],
      "text/plain": [
       "<IPython.core.display.Math object>"
      ]
     },
     "metadata": {},
     "output_type": "display_data"
    },
    {
     "data": {
      "text/latex": [
       "$\\displaystyle \\text{For the gate constructed from the function }f_2\\text{ the final state of the first qubit is} \\ 0|0\\rangle + 1|1\\rangle $"
      ],
      "text/plain": [
       "<IPython.core.display.Math object>"
      ]
     },
     "metadata": {},
     "output_type": "display_data"
    },
    {
     "data": {
      "text/latex": [
       "$\\displaystyle \\text{For the gate constructed from the function }f_3\\text{ the final state of the first qubit is} \\ 1|0\\rangle + 0|1\\rangle $"
      ],
      "text/plain": [
       "<IPython.core.display.Math object>"
      ]
     },
     "metadata": {},
     "output_type": "display_data"
    },
    {
     "data": {
      "text/latex": [
       "$\\displaystyle \\text{For the gate constructed from the function }f_4\\text{ the final state of the first qubit is} \\ 1|0\\rangle + 0|1\\rangle $"
      ],
      "text/plain": [
       "<IPython.core.display.Math object>"
      ]
     },
     "metadata": {},
     "output_type": "display_data"
    }
   ],
   "source": [
    "for i in (f_1,f_2,f_3,f_4):\n",
    "    Finalstate = np.kron(Hgate,I)*U_f(i)*np.kron(Hgate,Hgate)*np.kron(qubit(1,0),qubit(0,1))\n",
    "    prob0 = int(Finalstate[0]**2+Finalstate[1]**2)\n",
    "    prob1 = int(Finalstate[2]**2+Finalstate[3]**2)#prob1 = 1 - prob0\n",
    "    #print('for the gate f1 the first qubit ')\n",
    "    display(Math('\\\\text{For the gate constructed from the function }' + i.__name__ + '\\\\text{ the final state of the first qubit is}'\n",
    "    + r' \\ {}|0\\rangle + {}|1\\rangle '.format( prob0, prob1)))"
   ]
  },
  {
   "cell_type": "markdown",
   "metadata": {},
   "source": [
    "***\n",
    "One can see from the results above that for the functions $f_1$ and $f_2$ where $f(0) \\neq f(1) $ the first qubit of the output is always $|1\\rangle$ .  \n",
    "\n",
    "For the constant functions $f_3$ and $f_4$ where $f(0) = f(1)$ the first qubit of the output is always in the state $|0\\rangle$"
   ]
  },
  {
   "cell_type": "markdown",
   "metadata": {},
   "source": [
    "# Deutsch-Jozsa algorithm\n",
    "\n",
    "## Step 1\n",
    "\n",
    "Begin by preparing the state $|\\psi_0 \\rangle $ with $n$ qubits set to the state $|0 \\rangle$ and one final qubit in the state $|1\\rangle$\n",
    "\n",
    "$|\\psi_0 \\rangle = |0\\rangle ^{\\otimes n} \\otimes | 1 \\rangle$"
   ]
  },
  {
   "cell_type": "code",
   "execution_count": 15,
   "metadata": {},
   "outputs": [],
   "source": [
    "n = 6 #number of qubits to simulate\n",
    "\n",
    "def all_zero(n):                        #prepares n qubits |0⟩ \n",
    "    Psi = qubit(1,0)\n",
    "    for i in range(n-1):\n",
    "        Psi = np.kron(Psi,qubit(1,0))\n",
    "    return(Psi)\n",
    "\n",
    "Psi_0 = np.kron(all_zero(n),qubit(0,1)) #adds the final qubit |1⟩ "
   ]
  },
  {
   "cell_type": "markdown",
   "metadata": {},
   "source": [
    "## Step 2\n",
    "The Hadamard transform is next applied to $|\\psi_0 \\rangle$\n",
    "\n",
    "$|\\psi_1 \\rangle = H^{\\otimes n+1}\\mid \\psi_0 \\rangle$"
   ]
  },
  {
   "cell_type": "code",
   "execution_count": 16,
   "metadata": {},
   "outputs": [],
   "source": [
    "def Hadamard_transform(n): #Kronecker product of n Hadamard gates. 2^(n+1) square matrix\n",
    "    Hform = Hgate\n",
    "    for i in range(n):\n",
    "        Hform = np.kron(Hgate,Hform)\n",
    "    return(Hform)\n",
    "\n",
    "Psi_1 = Hadamard_transform(n)*Psi_0"
   ]
  },
  {
   "cell_type": "markdown",
   "metadata": {},
   "source": [
    "## Step 3\n",
    "\n",
    "The gate $U_f$ is prepared and applied to $\\mid \\psi_1 \\rangle$ \n",
    "\n",
    "$\\mid \\psi_2 \\rangle = U_f \\mid \\psi_1 \\rangle $"
   ]
  },
  {
   "cell_type": "code",
   "execution_count": 17,
   "metadata": {},
   "outputs": [],
   "source": [
    "def f_bal(x,n):                     #left half 0s, right half 1s\n",
    "    return(round(x/(2**n-1)))\n",
    "\n",
    "def f_bala(x,n=0):                  # x modulo 2\n",
    "    return(x%2)\n",
    "\n",
    "def f_cons0(x,n=0):\n",
    "    return(0)\n",
    "\n",
    "def f_cons1(x,n=0):\n",
    "    return(1)\n",
    "\n",
    "def U_fn(function,n):\n",
    "    Gate = np.identity(2**(n+1))                                    #create a 2^(n+1) square identity matrix\n",
    "    for i in range(2**n):                                           #split the matrix into pairs of rows, indexed from 0 to 2^n\n",
    "        if function(i,n) == 1:                                      #compute f(index) of the pair being tested.\n",
    "            Gate[[2*i]],Gate[[2*i+1]] = Gate[[2*i+1]],Gate[[2*i]]   #If f(index) = 1 then swap the pair\n",
    "    return(Gate)"
   ]
  },
  {
   "cell_type": "code",
   "execution_count": 18,
   "metadata": {},
   "outputs": [],
   "source": [
    "Psi_2 = U_fn(f_cons0, n)*Psi_1"
   ]
  },
  {
   "cell_type": "markdown",
   "metadata": {},
   "source": [
    "## Step 4\n",
    "\n",
    "Apply the Hadamard transform to the qubits in the query register\n",
    "\n",
    "$\\mid \\psi_3 \\rangle = (H^{\\otimes n}\\otimes I_2) \\cdot \\mid \\psi_2 \\rangle $"
   ]
  },
  {
   "cell_type": "code",
   "execution_count": 19,
   "metadata": {},
   "outputs": [],
   "source": [
    "Psi_3 = np.kron(Hadamard_transform(n-1),I)*Psi_2"
   ]
  },
  {
   "cell_type": "markdown",
   "metadata": {},
   "source": [
    "## Step 5\n",
    "measurement"
   ]
  },
  {
   "cell_type": "code",
   "execution_count": 20,
   "metadata": {},
   "outputs": [],
   "source": [
    "def DJ_test(statevector): #compute the sum of the squared magnitudes of the first two elements of the statevector\n",
    "    if round(float(statevector[0])**2 + float(statevector[1])**2,10): \n",
    "        return('is a constant function') #function is constant if the sum is 1\n",
    "    return('is a balanced function')     #function is balanced if the sum is 0"
   ]
  },
  {
   "cell_type": "code",
   "execution_count": 21,
   "metadata": {},
   "outputs": [
    {
     "name": "stdout",
     "output_type": "stream",
     "text": [
      "64\n"
     ]
    }
   ],
   "source": [
    "Query = []\n",
    "for i in range(2**n):\n",
    "    Query += [round( float(Psi_3[2*i])**2 + float(Psi_3[2*i+1])**2 ,10)]\n",
    "print(len(Query))\n",
    "#print(Query)"
   ]
  },
  {
   "cell_type": "code",
   "execution_count": 22,
   "metadata": {},
   "outputs": [
    {
     "name": "stdout",
     "output_type": "stream",
     "text": [
      "f_bal is a balanced function\n",
      "f_bala is a balanced function\n",
      "f_cons0 is a constant function\n",
      "f_cons1 is a constant function\n"
     ]
    }
   ],
   "source": [
    "functions = [f_bal, f_bala, f_cons0, f_cons1]\n",
    "n = 7\n",
    "for i in functions:\n",
    "    state = np.kron(Hadamard_transform(n-1),I)*U_fn(i, n)*Hadamard_transform(n)*np.kron(all_zero(n),qubit(0,1))\n",
    "    print(i.__name__ , DJ_test(state))"
   ]
  },
  {
   "cell_type": "code",
   "execution_count": null,
   "metadata": {},
   "outputs": [],
   "source": []
  },
  {
   "cell_type": "markdown",
   "metadata": {},
   "source": [
    "Handling numerical imprecision  \n",
    "Expense of creating $U_f$"
   ]
  }
 ],
 "metadata": {
  "kernelspec": {
   "display_name": "Python 3",
   "language": "python",
   "name": "python3"
  },
  "language_info": {
   "codemirror_mode": {
    "name": "ipython",
    "version": 3
   },
   "file_extension": ".py",
   "mimetype": "text/x-python",
   "name": "python",
   "nbconvert_exporter": "python",
   "pygments_lexer": "ipython3",
   "version": "3.7.6"
  }
 },
 "nbformat": 4,
 "nbformat_minor": 4
}
