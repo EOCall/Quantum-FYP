{
 "cells": [
  {
   "cell_type": "code",
   "execution_count": 1,
   "metadata": {},
   "outputs": [],
   "source": [
    "import math\n",
    "import numpy as np"
   ]
  },
  {
   "cell_type": "code",
   "execution_count": 2,
   "metadata": {},
   "outputs": [],
   "source": [
    "def qubit(a,b):                          #function creates a normed vector with 2 entries\n",
    "    Length = np.sqrt(np.abs(a)**2+np.abs(b)**2)\n",
    "    return(np.array([[a/Length,b/Length]]).T)"
   ]
  },
  {
   "cell_type": "code",
   "execution_count": 3,
   "metadata": {},
   "outputs": [],
   "source": [
    "def gate(a ,b ,c ,d ,coefficient = 1):\n",
    "    matrix = np.matrix([[a,b],[c,d]])*coefficient                            #forms the matrix\n",
    "    conj_trans_matrix = (coefficient*np.matrix([[a,c],[b,d]])).conj()        #forms the conjugate transpose of the matrix\n",
    "    if np.allclose(matrix*conj_trans_matrix, np.matrix([[1.,0.],[0.,1.]])):  #Checks if the matrix is unitary\n",
    "        return(matrix)\n",
    "    raise Exception('Coefficients do not form a unitary matrix')\n",
    "\n",
    "I     = gate(1,0,0,1)            #The identity gate\n",
    "Hgate = gate(1,1,1,-1,2**(-0.5)) # Hadamard gate\n",
    "Xgate = gate(0,1,1,0)           # Pauli-X gate\n",
    "Ygate = gate(0,-1j,1j,0)         # Pauli-Y gate\n",
    "Zgate = gate(1,0,0,-1)          # Pauli-Z gate\n",
    "Sgate = gate(1,0,0,1j)          # Phase gate\n",
    "Tgate = gate(1,0,0,1j**0.5)     # Pi/8 gate"
   ]
  },
  {
   "cell_type": "code",
   "execution_count": 4,
   "metadata": {},
   "outputs": [],
   "source": [
    "def Hadamard_transform(n): #Kronecker product of n Hadamard gates. 2^(n+1) square matrix\n",
    "    Hform = Hgate\n",
    "    for i in range(n):\n",
    "        Hform = np.kron(Hgate,Hform)\n",
    "    return(Hform)"
   ]
  },
  {
   "cell_type": "code",
   "execution_count": 5,
   "metadata": {},
   "outputs": [],
   "source": [
    "def all_zero(n):                        #prepares n qubits |0⟩ \n",
    "    Psi = qubit(1,0)\n",
    "    for i in range(n-1):\n",
    "        Psi = np.kron(Psi,qubit(1,0))\n",
    "    return(Psi)"
   ]
  },
  {
   "cell_type": "code",
   "execution_count": 6,
   "metadata": {},
   "outputs": [
    {
     "name": "stdout",
     "output_type": "stream",
     "text": [
      "[0, 1, 2]\n"
     ]
    }
   ],
   "source": [
    "print([i for i in range(3)])"
   ]
  },
  {
   "cell_type": "markdown",
   "metadata": {},
   "source": [
    "should remove all references to polynomials."
   ]
  },
  {
   "cell_type": "code",
   "execution_count": 7,
   "metadata": {},
   "outputs": [
    {
     "ename": "NameError",
     "evalue": "name 'test' is not defined",
     "output_type": "error",
     "traceback": [
      "\u001b[1;31m---------------------------------------------------------------------------\u001b[0m",
      "\u001b[1;31mNameError\u001b[0m                                 Traceback (most recent call last)",
      "\u001b[1;32m<ipython-input-7-e93e74657fde>\u001b[0m in \u001b[0;36m<module>\u001b[1;34m\u001b[0m\n\u001b[0;32m     21\u001b[0m     \u001b[1;32mreturn\u001b[0m\u001b[1;33m(\u001b[0m\u001b[0mY_out\u001b[0m\u001b[1;33m)\u001b[0m\u001b[1;33m\u001b[0m\u001b[1;33m\u001b[0m\u001b[0m\n\u001b[0;32m     22\u001b[0m \u001b[1;33m\u001b[0m\u001b[0m\n\u001b[1;32m---> 23\u001b[1;33m \u001b[0mFFT\u001b[0m\u001b[1;33m(\u001b[0m\u001b[0mtest\u001b[0m\u001b[1;33m)\u001b[0m\u001b[1;33m\u001b[0m\u001b[1;33m\u001b[0m\u001b[0m\n\u001b[0m",
      "\u001b[1;31mNameError\u001b[0m: name 'test' is not defined"
     ]
    }
   ],
   "source": [
    "def FFT(Poly):\n",
    "    #Poly = [p_0,p_1,....p_n-1] list of coefficents of a polynomial\n",
    "    Poly += [0]*(2**math.ceil(math.log(len(Poly),2))-len(Poly)) #adds 0's until the polynomial has degree equal power of 2\n",
    "    degree = len(Poly)\n",
    "    if degree == 1:\n",
    "        return Poly\n",
    "    \n",
    "    angle = 2j*np.pi/degree\n",
    "    \n",
    "    Poly_odd = Poly[1::2]\n",
    "    Poly_even = Poly[::2] \n",
    "    Y_odd = FFT(Poly_odd)\n",
    "    Y_even = FFT(Poly_even)\n",
    "    Y_out = [0]*degree\n",
    "    \n",
    "    for i in range(int(degree/2)):\n",
    "        omega = np.e**(-angle*i) # minus here? #(np.cos(angle*i)+np.sin(angle*i)*-1j) \n",
    "        Y_out[i] = Y_even[i]+omega*Y_odd[i]\n",
    "        Y_out[i+int(degree/2)] = Y_even[i]-omega*Y_odd[i]\n",
    "        \n",
    "    return(Y_out)\n"
   ]
  },
  {
   "cell_type": "code",
   "execution_count": null,
   "metadata": {},
   "outputs": [],
   "source": [
    "def IFFT(Poly):\n",
    "    #Poly = [p_0,p_1,....p_n-1] list of values of a polynomial evaluated at roots of unity\n",
    "    Poly += [0]*(2**math.ceil(math.log(len(Poly),2))-len(Poly)) #adds 0's until the polynomial has degree equal power of 2\n",
    "    degree = len(Poly)\n",
    "    if degree == 1:\n",
    "        return Poly\n",
    "    \n",
    "    angle = -2j*np.pi/degree ####change\n",
    "    Poly_odd = Poly[1::2]\n",
    "    Poly_even = Poly[::2]\n",
    "    Y_odd = IFFT(Poly_odd)\n",
    "    Y_even = IFFT(Poly_even)\n",
    "    Y_out = [0]*degree\n",
    "    \n",
    "    for i in range(int(degree/2)):\n",
    "        omega = np.e**(-angle*i) #(np.cos(angle*i)+np.sin(angle*i)*-1j)\n",
    "        Y_out[i] = Y_even[i]+omega*Y_odd[i]\n",
    "        Y_out[i+int(degree/2)] = Y_even[i]-omega*Y_odd[i]\n",
    "    return(Y_out)\n",
    "\n",
    "def normalise(IFFT_result,prec=0):\n",
    "    #IFFT output needs to be scaled down appropriately\n",
    "    IFFT_result = [i/len(IFFT_result) for i in IFFT_result]\n",
    "    if int(prec):\n",
    "        IFFT_result = [round(i.real, prec) + round(i.imag,prec)*1j for i in IFFT_result]\n",
    "    return(IFFT_result)\n",
    "\n",
    "normalise(IFFT(FFT(test)),5)"
   ]
  },
  {
   "cell_type": "markdown",
   "metadata": {},
   "source": [
    "Box 5.1, (5.19)"
   ]
  },
  {
   "cell_type": "code",
   "execution_count": null,
   "metadata": {},
   "outputs": [],
   "source": []
  }
 ],
 "metadata": {
  "kernelspec": {
   "display_name": "Python 3",
   "language": "python",
   "name": "python3"
  },
  "language_info": {
   "codemirror_mode": {
    "name": "ipython",
    "version": 3
   },
   "file_extension": ".py",
   "mimetype": "text/x-python",
   "name": "python",
   "nbconvert_exporter": "python",
   "pygments_lexer": "ipython3",
   "version": "3.7.6"
  }
 },
 "nbformat": 4,
 "nbformat_minor": 4
}
